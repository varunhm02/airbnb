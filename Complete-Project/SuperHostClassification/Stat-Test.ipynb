{
 "cells": [
  {
   "cell_type": "code",
   "execution_count": 14,
   "metadata": {},
   "outputs": [],
   "source": [
    "from scipy.stats import ttest_ind\n",
    "import pandas as pd\n",
    "\n",
    "df = pd.read_csv('results.csv')\n",
    "\n",
    "\n",
    "col = df.columns\n",
    "results_frame = pd.DataFrame()\n",
    "for i in range(len(df.columns)):\n",
    "    for j in range(i+1, len(df.columns)):\n",
    "        column = str(col[i]) +' VS '+ str(col[j]) \n",
    "        t_val, p_val = ttest_ind(df[df.columns[i]],df[df.columns[j]])\n",
    "        \n",
    "        if p_val < 0.05:\n",
    "            results_frame[column] = [p_val,'S']\n",
    "        else:\n",
    "            results_frame[column] = [p_val,'-']\n",
    "            \n",
    "        \n",
    "results_frame.to_csv('stat-unbalanced.csv',header=True,index= False)\n",
    "        \n",
    "               "
   ]
  },
  {
   "cell_type": "code",
   "execution_count": null,
   "metadata": {},
   "outputs": [],
   "source": []
  }
 ],
 "metadata": {
  "kernelspec": {
   "display_name": "Python 3",
   "language": "python",
   "name": "python3"
  },
  "language_info": {
   "codemirror_mode": {
    "name": "ipython",
    "version": 3
   },
   "file_extension": ".py",
   "mimetype": "text/x-python",
   "name": "python",
   "nbconvert_exporter": "python",
   "pygments_lexer": "ipython3",
   "version": "3.7.4"
  }
 },
 "nbformat": 4,
 "nbformat_minor": 2
}
